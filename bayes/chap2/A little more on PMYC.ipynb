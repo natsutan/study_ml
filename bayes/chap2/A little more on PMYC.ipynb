{
 "cells": [
  {
   "cell_type": "markdown",
   "metadata": {},
   "source": [
    "# PMYCについて\n",
    "\n",
    "- 親変数 parent variable 他の変数に影響を与える変数\n",
    "- 子変数 child variable 他の変数から影響を受ける変数\n",
    "\n",
    "ある変数は親変数と子変数の両方になれる。\n",
    "PMYCは親変数と子変数にアクセスできる。"
   ]
  },
  {
   "cell_type": "code",
   "execution_count": 1,
   "metadata": {},
   "outputs": [
    {
     "name": "stdout",
     "output_type": "stream",
     "text": [
      "Children of lambda_\n",
      "{<pymc.distributions.new_dist_class.<locals>.new_class 'data_gnerator' at 0x000002015B9624A8>}\n",
      "Parents of data generator\n",
      "{'mu': <pymc.distributions.new_dist_class.<locals>.new_class 'poisson_param' at 0x000002015DFB99E8>}\n",
      "Childern of data generator\n",
      "{<pymc.PyMCObjects.Deterministic '(data_gnerator_add_1)' at 0x000002015BE4F898>}\n"
     ]
    }
   ],
   "source": [
    "import pymc as pm\n",
    "\n",
    "lambda_ = pm.Exponential(\"poisson_param\", 1)\n",
    "\n",
    "data_generator = pm.Poisson(\"data_gnerator\", lambda_)\n",
    "data_plus_one = data_generator + 1\n",
    "\n",
    "print(\"Children of lambda_\")\n",
    "print(lambda_.children)\n",
    "\n",
    "print(\"Parents of data generator\")\n",
    "print(data_generator.parents)\n",
    "\n",
    "print(\"Childern of data generator\")\n",
    "print(data_generator.children)\n"
   ]
  },
  {
   "cell_type": "markdown",
   "metadata": {},
   "source": [
    "全てのPYMC変数は、valueプロパティを持っている。\n",
    "\n",
    "- stochastic変数（確率的）　親変数が分かっていても値がランダムな物。○○分布\n",
    "- deterministic変数（決定的）　親関数が分かっていればその値が決まる変数。\n"
   ]
  },
  {
   "cell_type": "code",
   "execution_count": 2,
   "metadata": {},
   "outputs": [
    {
     "name": "stdout",
     "output_type": "stream",
     "text": [
      "lambda_value = 0.8492650135735358\n",
      "data_generator value =  0\n",
      "data_plus_one value =  1\n"
     ]
    }
   ],
   "source": [
    "print(\"lambda_value =\", lambda_.value)\n",
    "print(\"data_generator value = \", data_generator.value)\n",
    "print(\"data_plus_one value = \",  data_plus_one.value)"
   ]
  },
  {
   "cell_type": "code",
   "execution_count": null,
   "metadata": {
    "collapsed": true
   },
   "outputs": [],
   "source": []
  }
 ],
 "metadata": {
  "kernelspec": {
   "display_name": "Python 3",
   "language": "python",
   "name": "python3"
  },
  "language_info": {
   "codemirror_mode": {
    "name": "ipython",
    "version": 3
   },
   "file_extension": ".py",
   "mimetype": "text/x-python",
   "name": "python",
   "nbconvert_exporter": "python",
   "pygments_lexer": "ipython3",
   "version": "3.6.1"
  }
 },
 "nbformat": 4,
 "nbformat_minor": 2
}
