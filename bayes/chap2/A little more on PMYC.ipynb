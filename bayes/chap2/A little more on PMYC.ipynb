{
 "cells": [
  {
   "cell_type": "markdown",
   "metadata": {},
   "source": [
    "# PMYCについて\n",
    "\n",
    "- 親変数 parent variable 他の変数に影響を与える変数\n",
    "- 子変数 child variable 他の変数から影響を受ける変数\n",
    "\n",
    "ある変数は親変数と子変数の両方になれる。\n",
    "PMYCは親変数と子変数にアクセスできる。"
   ]
  },
  {
   "cell_type": "code",
   "execution_count": 1,
   "metadata": {},
   "outputs": [
    {
     "name": "stdout",
     "output_type": "stream",
     "text": [
      "Children of lambda_\n",
      "{<pymc.distributions.new_dist_class.<locals>.new_class 'data_gnerator' at 0x00000227DB899978>}\n",
      "Parents of data generator\n",
      "{'mu': <pymc.distributions.new_dist_class.<locals>.new_class 'poisson_param' at 0x00000227D972F9B0>}\n",
      "Childern of data generator\n",
      "{<pymc.PyMCObjects.Deterministic '(data_gnerator_add_1)' at 0x00000227D972FA58>}\n"
     ]
    }
   ],
   "source": [
    "import pymc as pm\n",
    "\n",
    "lambda_ = pm.Exponential(\"poisson_param\", 1)\n",
    "\n",
    "data_generator = pm.Poisson(\"data_gnerator\", lambda_)\n",
    "data_plus_one = data_generator + 1\n",
    "\n",
    "print(\"Children of lambda_\")\n",
    "print(lambda_.children)\n",
    "\n",
    "print(\"Parents of data generator\")\n",
    "print(data_generator.parents)\n",
    "\n",
    "print(\"Childern of data generator\")\n",
    "print(data_generator.children)\n"
   ]
  },
  {
   "cell_type": "markdown",
   "metadata": {},
   "source": [
    "全てのPYMC変数は、valueプロパティを持っている。\n",
    "\n",
    "- stochastic変数（確率的）　親変数が分かっていても値がランダムな物。○○分布\n",
    "- deterministic変数（決定的）　親関数が分かっていればその値が決まる変数。\n"
   ]
  },
  {
   "cell_type": "code",
   "execution_count": 2,
   "metadata": {},
   "outputs": [
    {
     "name": "stdout",
     "output_type": "stream",
     "text": [
      "lambda_value = 1.050642282259113\n",
      "data_generator value =  0\n",
      "data_plus_one value =  1\n"
     ]
    }
   ],
   "source": [
    "print(\"lambda_value =\", lambda_.value)\n",
    "print(\"data_generator value = \", data_generator.value)\n",
    "print(\"data_plus_one value = \",  data_plus_one.value)"
   ]
  },
  {
   "cell_type": "markdown",
   "metadata": {
    "collapsed": true
   },
   "source": [
    "## モデルに観測を組み込む"
   ]
  },
  {
   "cell_type": "code",
   "execution_count": 3,
   "metadata": {},
   "outputs": [],
   "source": [
    "from IPython.core.pylabtools import figsize\n",
    "from matplotlib import pyplot as plt\n",
    "%matplotlib inline\n",
    "import numpy as np\n",
    "figsize(12.5, 4)"
   ]
  },
  {
   "cell_type": "code",
   "execution_count": 4,
   "metadata": {},
   "outputs": [],
   "source": [
    "lambda_1 = pm.Exponential(\"lambda_1\", 1)\n",
    "lambda_2 = pm.Exponential(\"lambda_2\", 1)\n",
    "tau = pm.DiscreteUniform(\"tau\", lower=0, upper=10)\n",
    "data = np.array([10, 25, 15, 20, 35])\n",
    "n_count_data = len(data)\n",
    "obs = pm.Poisson(\"obs\", lambda_, value=data, observed=True)\n",
    "\n",
    "@pm.deterministic\n",
    "def lambda_(tau=tau, lamba_1=lambda_1, lambda_2=lambda_2):\n",
    "    out = np.zeros(n_count_data)\n",
    "    out[:tau] = lambda_1 \n",
    "    out[tau:] = lambda_2\n",
    "    return out\n"
   ]
  },
  {
   "cell_type": "code",
   "execution_count": 5,
   "metadata": {},
   "outputs": [
    {
     "data": {
      "text/plain": [
       "(array([  9.24931005e-01,   7.89197650e-01,   7.16110459e-01,\n",
       "          6.05219549e-01,   5.23131472e-01,   4.83887610e-01,\n",
       "          3.96038967e-01,   3.64355850e-01,   3.12150713e-01,\n",
       "          2.73986958e-01,   2.44464053e-01,   2.08460511e-01,\n",
       "          1.75337252e-01,   1.54455197e-01,   1.37893568e-01,\n",
       "          1.23852186e-01,   9.00088561e-02,   9.18090332e-02,\n",
       "          8.02878997e-02,   6.80466952e-02,   5.04049594e-02,\n",
       "          5.00449240e-02,   4.39243218e-02,   4.21241447e-02,\n",
       "          3.16831174e-02,   3.27632236e-02,   2.16021255e-02,\n",
       "          2.30422672e-02,   1.29612753e-02,   1.80017712e-02,\n",
       "          1.44014170e-02,   1.22412044e-02,   1.18811690e-02,\n",
       "          1.08010627e-02,   3.60035424e-03,   9.72095646e-03,\n",
       "          7.20070849e-03,   3.60035424e-03,   5.76056679e-03,\n",
       "          6.84067306e-03,   4.32042509e-03,   2.16021255e-03,\n",
       "          2.88028340e-03,   2.52024797e-03,   1.80017712e-03,\n",
       "          1.44014170e-03,   1.80017712e-03,   1.44014170e-03,\n",
       "          1.08010627e-03,   1.44014170e-03,   0.00000000e+00,\n",
       "          7.20070849e-04,   3.60035424e-04,   3.60035424e-04,\n",
       "          0.00000000e+00,   7.20070849e-04,   0.00000000e+00,\n",
       "          0.00000000e+00,   0.00000000e+00,   0.00000000e+00,\n",
       "          0.00000000e+00,   3.60035424e-04,   0.00000000e+00,\n",
       "          3.60035424e-04,   0.00000000e+00,   3.60035424e-04,\n",
       "          0.00000000e+00,   0.00000000e+00,   0.00000000e+00,\n",
       "          3.60035424e-04]),\n",
       " array([  1.69656405e-04,   1.39044880e-01,   2.77920103e-01,\n",
       "          4.16795327e-01,   5.55670550e-01,   6.94545773e-01,\n",
       "          8.33420997e-01,   9.72296220e-01,   1.11117144e+00,\n",
       "          1.25004667e+00,   1.38892189e+00,   1.52779711e+00,\n",
       "          1.66667234e+00,   1.80554756e+00,   1.94442278e+00,\n",
       "          2.08329801e+00,   2.22217323e+00,   2.36104845e+00,\n",
       "          2.49992368e+00,   2.63879890e+00,   2.77767412e+00,\n",
       "          2.91654935e+00,   3.05542457e+00,   3.19429979e+00,\n",
       "          3.33317502e+00,   3.47205024e+00,   3.61092546e+00,\n",
       "          3.74980069e+00,   3.88867591e+00,   4.02755113e+00,\n",
       "          4.16642636e+00,   4.30530158e+00,   4.44417680e+00,\n",
       "          4.58305203e+00,   4.72192725e+00,   4.86080248e+00,\n",
       "          4.99967770e+00,   5.13855292e+00,   5.27742815e+00,\n",
       "          5.41630337e+00,   5.55517859e+00,   5.69405382e+00,\n",
       "          5.83292904e+00,   5.97180426e+00,   6.11067949e+00,\n",
       "          6.24955471e+00,   6.38842993e+00,   6.52730516e+00,\n",
       "          6.66618038e+00,   6.80505560e+00,   6.94393083e+00,\n",
       "          7.08280605e+00,   7.22168127e+00,   7.36055650e+00,\n",
       "          7.49943172e+00,   7.63830694e+00,   7.77718217e+00,\n",
       "          7.91605739e+00,   8.05493261e+00,   8.19380784e+00,\n",
       "          8.33268306e+00,   8.47155828e+00,   8.61043351e+00,\n",
       "          8.74930873e+00,   8.88818395e+00,   9.02705918e+00,\n",
       "          9.16593440e+00,   9.30480962e+00,   9.44368485e+00,\n",
       "          9.58256007e+00,   9.72143529e+00]),\n",
       " <a list of 1 Patch objects>)"
      ]
     },
     "execution_count": 5,
     "metadata": {},
     "output_type": "execute_result"
    },
    {
     "data": {
      "image/png": "[encoded data removed]",
      "text/plain": [
       "<matplotlib.figure.Figure at 0x227db7be7f0>"
      ]
     },
     "metadata": {},
     "output_type": "display_data"
    }
   ],
   "source": [
    "samples = [lambda_1.random() for i in range(20000)]\n",
    "plt.hist(samples, bins=70, normed=True, histtype=\"stepfilled\")"
   ]
  },
  {
   "cell_type": "markdown",
   "metadata": {},
   "source": [
    "stochastic変数を固定値にしてモデルに組み込む"
   ]
  },
  {
   "cell_type": "code",
   "execution_count": 6,
   "metadata": {
    "collapsed": true
   },
   "outputs": [],
   "source": [
    "model = pm.Model([obs, lambda_, lambda_1, lambda_2,tau])"
   ]
  },
  {
   "cell_type": "markdown",
   "metadata": {},
   "source": [
    "## 同じ物語、異なる結末\n"
   ]
  },
  {
   "cell_type": "code",
   "execution_count": 7,
   "metadata": {},
   "outputs": [
    {
     "data": {
      "text/plain": [
       "(0, 80)"
      ]
     },
     "execution_count": 7,
     "metadata": {},
     "output_type": "execute_result"
    },
    {
     "data": {
      "image/png": "[encoded data removed]",
      "text/plain": [
       "<matplotlib.figure.Figure at 0x227deca1128>"
      ]
     },
     "metadata": {},
     "output_type": "display_data"
    }
   ],
   "source": [
    "# 1. ユーザーの揺るまいが変化する変化点をDiscreteUniformからサンプリングする\n",
    "tau = pm.rdiscrete_uniform(0, 80)\n",
    "\n",
    "#2 指数分布をλ1, λ2からサンプリングする。\n",
    "alpha= 1.0/20\n",
    "lambda_1, lambda_2 = pm.rexponential(alpha, 2)\n",
    "\n",
    "#3 日付tauで振り分け\n",
    "lambda_ = np.r_[lambda_1 * np.ones(tau), lambda_2 * np.ones(80 - tau)]\n",
    "\n",
    "#4 Poiでサンプリング\n",
    "data = pm.rpoisson(lambda_)\n",
    "\n",
    "#5 plot\n",
    "plt.bar(np.arange(80), data, color=\"#348ABD\")\n",
    "plt.bar(tau-1, data[tau-1], color ='r')\n",
    "plt.xlabel(\"time(days)\")\n",
    "plt.xlim([0,80])"
   ]
  },
  {
   "cell_type": "code",
   "execution_count": null,
   "metadata": {
    "collapsed": true
   },
   "outputs": [],
   "source": []
  }
 ],
 "metadata": {
  "kernelspec": {
   "display_name": "Python 3",
   "language": "python",
   "name": "python3"
  },
  "language_info": {
   "codemirror_mode": {
    "name": "ipython",
    "version": 3
   },
   "file_extension": ".py",
   "mimetype": "text/x-python",
   "name": "python",
   "nbconvert_exporter": "python",
   "pygments_lexer": "ipython3",
   "version": "3.6.1"
  }
 },
 "nbformat": 4,
 "nbformat_minor": 2
}
