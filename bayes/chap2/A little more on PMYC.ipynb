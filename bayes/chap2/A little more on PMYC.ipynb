{
 "cells": [
  {
   "cell_type": "markdown",
   "metadata": {},
   "source": [
    "# PMYCについて\n",
    "\n",
    "- 親変数 parent variable 他の変数に影響を与える変数\n",
    "- 子変数 child variable 他の変数から影響を受ける変数\n",
    "\n",
    "ある変数は親変数と子変数の両方になれる。\n",
    "PMYCは親変数と子変数にアクセスできる。"
   ]
  },
  {
   "cell_type": "code",
   "execution_count": 7,
   "metadata": {},
   "outputs": [
    {
     "name": "stdout",
     "output_type": "stream",
     "text": [
      "Children of lambda_\n",
      "{<pymc.distributions.new_dist_class.<locals>.new_class 'data_gnerator' at 0x0000025F2DCC47B8>}\n",
      "Parents of data generator\n",
      "{'mu': <pymc.distributions.new_dist_class.<locals>.new_class 'poisson_param' at 0x0000025F2DCEF358>}\n",
      "Childern of data generator\n",
      "{<pymc.PyMCObjects.Deterministic '(data_gnerator_add_1)' at 0x0000025F2DCEF7F0>}\n"
     ]
    }
   ],
   "source": [
    "import pymc as pm\n",
    "\n",
    "lambda_ = pm.Exponential(\"poisson_param\", 1)\n",
    "\n",
    "data_generator = pm.Poisson(\"data_gnerator\", lambda_)\n",
    "data_plus_one = data_generator + 1\n",
    "\n",
    "print(\"Children of lambda_\")\n",
    "print(lambda_.children)\n",
    "\n",
    "print(\"Parents of data generator\")\n",
    "print(data_generator.parents)\n",
    "\n",
    "print(\"Childern of data generator\")\n",
    "print(data_generator.children)\n"
   ]
  },
  {
   "cell_type": "markdown",
   "metadata": {},
   "source": [
    "全てのPYMC変数は、valueプロパティを持っている。\n",
    "\n",
    "- stochastic変数（確率的）　親変数が分かっていても値がランダムな物。○○分布\n",
    "- deterministic変数（決定的）　親関数が分かっていればその値が決まる変数。\n"
   ]
  },
  {
   "cell_type": "code",
   "execution_count": 8,
   "metadata": {},
   "outputs": [
    {
     "name": "stdout",
     "output_type": "stream",
     "text": [
      "lambda_value = 1.5436746265818748\n",
      "data_generator value =  2\n",
      "data_plus_one value =  3\n"
     ]
    }
   ],
   "source": [
    "print(\"lambda_value =\", lambda_.value)\n",
    "print(\"data_generator value = \", data_generator.value)\n",
    "print(\"data_plus_one value = \",  data_plus_one.value)"
   ]
  },
  {
   "cell_type": "markdown",
   "metadata": {
    "collapsed": true
   },
   "source": [
    "## モデルに観測を組み込む"
   ]
  },
  {
   "cell_type": "code",
   "execution_count": 9,
   "metadata": {},
   "outputs": [],
   "source": [
    "from IPython.core.pylabtools import figsize\n",
    "from matplotlib import pyplot as plt\n",
    "%matplotlib inline\n",
    "import numpy as np\n",
    "figsize(12.5, 4)"
   ]
  },
  {
   "cell_type": "code",
   "execution_count": 24,
   "metadata": {},
   "outputs": [],
   "source": [
    "lambda_1 = pm.Exponential(\"lambda_1\", 1)\n",
    "lambda_2 = pm.Exponential(\"lambda_2\", 1)\n",
    "tau = pm.DiscreteUniform(\"tau\", lower=0, upper=10)\n",
    "data = np.array([10, 25, 15, 20, 35])\n",
    "n_count_data = len(data)\n",
    "obs = pm.Poisson(\"obs\", lambda_, value=data, observed=True)\n",
    "\n",
    "@pm.deterministic\n",
    "def lambda_(tau=tau, lamba_1=lambda_1, lambda_2=lambda_2):\n",
    "    out = np.zeros(n_count_data)\n",
    "    out[:tau] = lambda_1 \n",
    "    out[tau:] = lambda_2\n",
    "    return out\n"
   ]
  },
  {
   "cell_type": "code",
   "execution_count": 25,
   "metadata": {},
   "outputs": [
    {
     "data": {
      "text/plain": [
       "(array([  9.46353370e-01,   8.09770144e-01,   7.10981180e-01,\n",
       "          6.41754065e-01,   5.47081308e-01,   4.88706011e-01,\n",
       "          4.19853097e-01,   3.73452220e-01,   3.13205920e-01,\n",
       "          2.73914854e-01,   2.38365795e-01,   2.21526768e-01,\n",
       "          1.81487301e-01,   1.64648273e-01,   1.42944637e-01,\n",
       "          1.16750594e-01,   1.09640782e-01,   9.54211583e-02,\n",
       "          8.86855471e-02,   8.41951397e-02,   6.28657043e-02,\n",
       "          5.50074913e-02,   4.37814726e-02,   4.07878677e-02,\n",
       "          3.36780559e-02,   3.06844509e-02,   2.61940435e-02,\n",
       "          2.58198428e-02,   2.39488397e-02,   2.43230404e-02,\n",
       "          1.87100310e-02,   1.38454230e-02,   1.90842317e-02,\n",
       "          1.57164261e-02,   1.01034168e-02,   9.35501552e-03,\n",
       "          8.98081490e-03,   8.60661428e-03,   5.98720993e-03,\n",
       "          5.61300931e-03,   4.11620683e-03,   3.36780559e-03,\n",
       "          2.61940435e-03,   4.11620683e-03,   2.24520373e-03,\n",
       "          2.61940435e-03,   2.24520373e-03,   7.48401242e-04,\n",
       "          1.87100310e-03,   1.12260186e-03,   7.48401242e-04,\n",
       "          7.48401242e-04,   3.74200621e-04,   7.48401242e-04,\n",
       "          0.00000000e+00,   3.74200621e-04,   7.48401242e-04,\n",
       "          0.00000000e+00,   3.74200621e-04,   3.74200621e-04,\n",
       "          0.00000000e+00,   0.00000000e+00,   3.74200621e-04,\n",
       "          0.00000000e+00,   0.00000000e+00,   7.48401242e-04,\n",
       "          0.00000000e+00,   1.12260186e-03,   0.00000000e+00,\n",
       "          3.74200621e-04]),\n",
       " array([  3.64237605e-05,   1.33654588e-01,   2.67272752e-01,\n",
       "          4.00890916e-01,   5.34509081e-01,   6.68127245e-01,\n",
       "          8.01745409e-01,   9.35363573e-01,   1.06898174e+00,\n",
       "          1.20259990e+00,   1.33621807e+00,   1.46983623e+00,\n",
       "          1.60345439e+00,   1.73707256e+00,   1.87069072e+00,\n",
       "          2.00430889e+00,   2.13792705e+00,   2.27154522e+00,\n",
       "          2.40516338e+00,   2.53878154e+00,   2.67239971e+00,\n",
       "          2.80601787e+00,   2.93963604e+00,   3.07325420e+00,\n",
       "          3.20687236e+00,   3.34049053e+00,   3.47410869e+00,\n",
       "          3.60772686e+00,   3.74134502e+00,   3.87496319e+00,\n",
       "          4.00858135e+00,   4.14219951e+00,   4.27581768e+00,\n",
       "          4.40943584e+00,   4.54305401e+00,   4.67667217e+00,\n",
       "          4.81029034e+00,   4.94390850e+00,   5.07752666e+00,\n",
       "          5.21114483e+00,   5.34476299e+00,   5.47838116e+00,\n",
       "          5.61199932e+00,   5.74561748e+00,   5.87923565e+00,\n",
       "          6.01285381e+00,   6.14647198e+00,   6.28009014e+00,\n",
       "          6.41370831e+00,   6.54732647e+00,   6.68094463e+00,\n",
       "          6.81456280e+00,   6.94818096e+00,   7.08179913e+00,\n",
       "          7.21541729e+00,   7.34903545e+00,   7.48265362e+00,\n",
       "          7.61627178e+00,   7.74988995e+00,   7.88350811e+00,\n",
       "          8.01712628e+00,   8.15074444e+00,   8.28436260e+00,\n",
       "          8.41798077e+00,   8.55159893e+00,   8.68521710e+00,\n",
       "          8.81883526e+00,   8.95245343e+00,   9.08607159e+00,\n",
       "          9.21968975e+00,   9.35330792e+00]),\n",
       " <a list of 1 Patch objects>)"
      ]
     },
     "execution_count": 25,
     "metadata": {},
     "output_type": "execute_result"
    },
    {
     "data": {
      "image/png": "[encoded data removed]",
      "text/plain": [
       "<matplotlib.figure.Figure at 0x25f319e1e48>"
      ]
     },
     "metadata": {},
     "output_type": "display_data"
    }
   ],
   "source": [
    "samples = [lambda_1.random() for i in range(20000)]\n",
    "plt.hist(samples, bins=70, normed=True, histtype=\"stepfilled\")"
   ]
  },
  {
   "cell_type": "markdown",
   "metadata": {},
   "source": [
    "stochastic変数を固定値にしてモデルに組み込む"
   ]
  },
  {
   "cell_type": "code",
   "execution_count": 26,
   "metadata": {
    "collapsed": true
   },
   "outputs": [],
   "source": [
    "model = pm.Model([obs, lambda_, lambda_1, lambda_2,tau])"
   ]
  },
  {
   "cell_type": "markdown",
   "metadata": {},
   "source": [
    "## 同じ物語、異なる結末\n"
   ]
  },
  {
   "cell_type": "code",
   "execution_count": 43,
   "metadata": {},
   "outputs": [
    {
     "data": {
      "text/plain": [
       "(0, 80)"
      ]
     },
     "execution_count": 43,
     "metadata": {},
     "output_type": "execute_result"
    },
    {
     "data": {
      "image/png": "[encoded data removed]",
      "text/plain": [
       "<matplotlib.figure.Figure at 0x25f318a5710>"
      ]
     },
     "metadata": {},
     "output_type": "display_data"
    }
   ],
   "source": [
    "# 1. ユーザーの揺るまいが変化する変化点をDiscreteUniformからサンプリングする\n",
    "tau = pm.rdiscrete_uniform(0, 80)\n",
    "\n",
    "#2 指数分布をλ1, λ2からサンプリングする。\n",
    "alpha= 1.0/20\n",
    "lambda_1, lambda_2 = pm.rexponential(alpha, 2)\n",
    "\n",
    "#3 日付tauで振り分け\n",
    "lambda_ = np.r_[lambda_1 * np.ones(tau), lambda_2 * np.ones(80 - tau)]\n",
    "\n",
    "#4 Poiでサンプリング\n",
    "data = pm.rpoisson(lambda_)\n",
    "\n",
    "#5 plot\n",
    "plt.bar(np.arange(80), data, color=\"#348ABD\")\n",
    "plt.bar(tau-1, data[tau-1], color ='r')\n",
    "plt.xlabel(\"time(days)\")\n",
    "plt.xlim([0,80])"
   ]
  },
  {
   "cell_type": "code",
   "execution_count": null,
   "metadata": {
    "collapsed": true
   },
   "outputs": [],
   "source": []
  }
 ],
 "metadata": {
  "kernelspec": {
   "display_name": "Python 3",
   "language": "python",
   "name": "python3"
  },
  "language_info": {
   "codemirror_mode": {
    "name": "ipython",
    "version": 3
   },
   "file_extension": ".py",
   "mimetype": "text/x-python",
   "name": "python",
   "nbconvert_exporter": "python",
   "pygments_lexer": "ipython3",
   "version": "3.6.1"
  }
 },
 "nbformat": 4,
 "nbformat_minor": 2
}
