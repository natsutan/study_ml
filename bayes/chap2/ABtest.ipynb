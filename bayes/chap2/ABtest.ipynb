{
 "cells": [
  {
   "cell_type": "markdown",
   "metadata": {},
   "source": [
    "# ベイズ的ABテスト"
   ]
  },
  {
   "cell_type": "code",
   "execution_count": 1,
   "metadata": {},
   "outputs": [],
   "source": [
    "import pymc as pm\n",
    "\n",
    "from IPython.core.pylabtools import figsize\n",
    "from matplotlib import pyplot as plt\n",
    "%matplotlib inline\n",
    "import numpy as np\n",
    "figsize(12.5, 4)\n",
    "\n",
    "# Paの値に確信が無いので[0, 1]の一様分布とする。\n",
    "p = pm.Uniform('p', lower=0, upper=1)\n",
    "\n",
    "p_true = 0.05 # 本当ならこの値はわからない\n",
    "N = 1500\n",
    "\n",
    "occurrences = pm.rbernoulli(p_true, N)\n",
    "obs = pm.Bernoulli(\"obs\", p, value=occurrences, observed=True)"
   ]
  },
  {
   "cell_type": "code",
   "execution_count": 2,
   "metadata": {},
   "outputs": [
    {
     "name": "stdout",
     "output_type": "stream",
     "text": [
      " [-----------------100%-----------------] 20000 of 20000 complete in 1.1 sec"
     ]
    }
   ],
   "source": [
    "mcmc = pm.MCMC([p, obs])\n",
    "mcmc.sample(20000, 1000)"
   ]
  },
  {
   "cell_type": "code",
   "execution_count": 3,
   "metadata": {},
   "outputs": [
    {
     "data": {
      "text/plain": [
       "<matplotlib.legend.Legend at 0x23d46d4a668>"
      ]
     },
     "execution_count": 3,
     "metadata": {},
     "output_type": "execute_result"
    },
    {
     "data": {
      "image/png": "[encoded data removed]",
      "text/plain": [
       "<matplotlib.figure.Figure at 0x23d41b7a6d8>"
      ]
     },
     "metadata": {},
     "output_type": "display_data"
    }
   ],
   "source": [
    "plt.vlines(p_true, 0, 90, linestyle=\"--\", label = \"true $p_A$ (unkown)\")\n",
    "plt.hist(mcmc.trace(\"p\")[:], bins= 35, histtype=\"stepfilled\", normed=True)\n",
    "plt.legend()"
   ]
  },
  {
   "cell_type": "markdown",
   "metadata": {},
   "source": [
    "Bも加える。"
   ]
  },
  {
   "cell_type": "code",
   "execution_count": 4,
   "metadata": {},
   "outputs": [
    {
     "name": "stdout",
     "output_type": "stream",
     "text": [
      " [-----------------100%-----------------] 25000 of 25000 complete in 2.4 sec"
     ]
    }
   ],
   "source": [
    "p_true_A = 0.05 # 本当ならこの値はわからない\n",
    "p_true_B = 0.04 # 本当ならこの値はわからない\n",
    "N_A = 1500\n",
    "N_B = 750\n",
    "\n",
    "observations_A = pm.rbernoulli(p_true_A, N_A)\n",
    "observations_B = pm.rbernoulli(p_true_B, N_B)\n",
    "\n",
    "# Paの値に革新が無いので[0, 1]の一様分布とする。\n",
    "p_A = pm.Uniform('p_A', lower=0, upper=1)\n",
    "p_B = pm.Uniform('p_B', lower=0, upper=1)\n",
    "@pm.deterministic\n",
    "def delta(p_A=p_A, p_B=p_B):\n",
    "    return p_A - p_B\n",
    "\n",
    "obs_A = pm.Bernoulli(\"obs_A\", p_A, value=observations_A, observed=True)\n",
    "obs_B = pm.Bernoulli(\"obs_B\", p_B, value=observations_B, observed=True)\n",
    "\n",
    "mcmc = pm.MCMC([p_A, p_B, delta, obs_A, obs_B])\n",
    "mcmc.sample(25000, 5000)\n"
   ]
  },
  {
   "cell_type": "code",
   "execution_count": 5,
   "metadata": {},
   "outputs": [
    {
     "data": {
      "text/plain": [
       "(0, 80)"
      ]
     },
     "execution_count": 5,
     "metadata": {},
     "output_type": "execute_result"
    },
    {
     "data": {
      "image/png": "[encoded data removed]",
      "text/plain": [
       "<matplotlib.figure.Figure at 0x23d46fc0048>"
      ]
     },
     "metadata": {},
     "output_type": "display_data"
    }
   ],
   "source": [
    "p_A_samples = mcmc.trace(\"p_A\")[:]\n",
    "p_B_samples = mcmc.trace(\"p_B\")[:]\n",
    "delta_samples = mcmc.trace(\"delta\")[:]\n",
    "\n",
    "figsize(12.5, 10)\n",
    "\n",
    "ax = plt.subplot(311)\n",
    "plt.hist(p_A_samples, histtype='stepfilled', bins=30, alpha=0.85, label=\"$p_A$\", color=\"#A60628\", normed=True)\n",
    "plt.vlines(p_true_A, 0, 80, linestyle=\"--\", label=\"true $p_A$ (unkown)\")\n",
    "plt.xlim(0, .1)\n",
    "plt.ylim(0, 80)\n",
    "\n",
    "ax = plt.subplot(312)\n",
    "plt.hist(p_B_samples, histtype='stepfilled', bins=30, alpha=0.85, label=\"$p_B$\", color=\"#467821\", normed=True)\n",
    "plt.vlines(p_true_B, 0, 80, linestyle=\"--\", label=\"true $p_B$ (unkown)\")\n",
    "plt.xlim(0, .1)\n",
    "plt.ylim(0, 80)\n",
    "\n",
    "ax = plt.subplot(313)\n",
    "plt.hist(delta_samples, histtype='stepfilled', bins=30, alpha=0.85, label=\"$p_A - $p_B$\", color=\"#7A68A6\", normed=True)\n",
    "plt.vlines(p_true_A - p_true_B, 0, 80, linestyle=\"--\", label=\"true $p_A - p_B$ (unkown)\")\n",
    "plt.ylim(0, 80)\n",
    "\n",
    "\n"
   ]
  },
  {
   "cell_type": "code",
   "execution_count": null,
   "metadata": {
    "collapsed": true
   },
   "outputs": [],
   "source": []
  }
 ],
 "metadata": {
  "kernelspec": {
   "display_name": "Python 3",
   "language": "python",
   "name": "python3"
  },
  "language_info": {
   "codemirror_mode": {
    "name": "ipython",
    "version": 3
   },
   "file_extension": ".py",
   "mimetype": "text/x-python",
   "name": "python",
   "nbconvert_exporter": "python",
   "pygments_lexer": "ipython3",
   "version": "3.6.1"
  }
 },
 "nbformat": 4,
 "nbformat_minor": 2
}
