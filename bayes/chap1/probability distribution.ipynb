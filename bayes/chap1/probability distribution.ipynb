{
 "cells": [
  {
   "cell_type": "markdown",
   "metadata": {},
   "source": [
    "# 確率分布\n",
    "\n",
    "\n",
    "確率分布(probability distribution)とは、Zを確率変数(randaom variable)とした時に、Zが取り得る値のそれぞれに確率を与える関数が、確率分布関数(probability distribution function)である。\n",
    "\n",
    "確率変数Zは3つの種類がある。\n",
    "- 離散\n",
    "- 連続\n",
    "- 混合型\n"
   ]
  },
  {
   "cell_type": "markdown",
   "metadata": {},
   "source": [
    "## 離散の場合\n",
    "Zが離散の時は、確率分布は確率質量関数(probability mass function)と呼ばれる。\n",
    "\n",
    "ポアソン分布の例\n",
    "\n",
    "$$ P(Z=k)=\\frac{\\lambda^k e^{-\\lambda} } { k!}, k=0,1,2, ...$$\n",
    "\n",
    "$\\lambda$を大きくすると大きな値の確率が高まり、$\\lambda$を小さくすると小さな値の確率が小さくなる。\n",
    "kは0以上の整数出ないと駄目。\n",
    "確率変数Zが、ポアソン分布に従うことをこのように書く。\n",
    "\n",
    "$$Z \\sim Poi(\\lambda)$$\n",
    "\n",
    "ポアソン分布の特徴は期待値が分布パラメータに等しい。\n",
    "\n",
    "$$ E[Z|\\lambda] = \\lambda$$ "
   ]
  },
  {
   "cell_type": "code",
   "execution_count": 1,
   "metadata": {},
   "outputs": [
    {
     "data": {
      "text/plain": [
       "<matplotlib.text.Text at 0x23ccdcbf7f0>"
      ]
     },
     "execution_count": 1,
     "metadata": {},
     "output_type": "execute_result"
    },
    {
     "data": {
      "image/png": "[encoded data removed]",
      "text/plain": [
       "<matplotlib.figure.Figure at 0x23ccc623710>"
      ]
     },
     "metadata": {},
     "output_type": "display_data"
    }
   ],
   "source": [
    "import scipy.stats as stats\n",
    "from IPython.core.pylabtools import figsize\n",
    "import numpy as np\n",
    "from matplotlib import pyplot as plt\n",
    "%matplotlib inline\n",
    "figsize(12.5,4)\n",
    "\n",
    "poi = stats.poisson\n",
    "lambda_ = [1.5, 4.25]\n",
    "colors = [\"#348ABD\", \"#A60628\"]\n",
    "\n",
    "a = np.arange(16)\n",
    "\n",
    "plt.bar(a,  poi.pmf(a, lambda_[0]),  alpha = 0.6, color=colors[0], label = \"\\lambda = %0.1f$\" % lambda_[0], lw=3, edgecolor=colors[0])\n",
    "plt.bar(a,  poi.pmf(a, lambda_[1]),  alpha = 0.6, color=colors[1], label = \"\\lambda = %0.1f$\" % lambda_[1], lw=3, edgecolor=colors[1])\n",
    "\n",
    "plt.xticks(a+0.4, a)\n",
    "plt.legend()\n",
    "plt.xlabel(\"$k$\")\n",
    "plt.ylabel(\"Probability of $k$\")"
   ]
  },
  {
   "cell_type": "code",
   "execution_count": null,
   "metadata": {
    "collapsed": true
   },
   "outputs": [],
   "source": []
  }
 ],
 "metadata": {
  "kernelspec": {
   "display_name": "Python 3",
   "language": "python",
   "name": "python3"
  },
  "language_info": {
   "codemirror_mode": {
    "name": "ipython",
    "version": 3
   },
   "file_extension": ".py",
   "mimetype": "text/x-python",
   "name": "python",
   "nbconvert_exporter": "python",
   "pygments_lexer": "ipython3",
   "version": "3.6.1"
  }
 },
 "nbformat": 4,
 "nbformat_minor": 2
}
