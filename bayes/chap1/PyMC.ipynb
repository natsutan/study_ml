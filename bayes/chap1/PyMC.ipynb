{
 "cells": [
  {
   "cell_type": "markdown",
   "metadata": {},
   "source": [
    "# コンピュータにベイズ推論をさせる\n"
   ]
  },
  {
   "cell_type": "code",
   "execution_count": 1,
   "metadata": {
    "collapsed": true
   },
   "outputs": [],
   "source": [
    "import scipy.stats as stats\n",
    "from IPython.core.pylabtools import figsize\n",
    "import numpy as np\n",
    "from matplotlib import pyplot as plt\n",
    "%matplotlib inline\n"
   ]
  },
  {
   "cell_type": "code",
   "execution_count": 2,
   "metadata": {},
   "outputs": [
    {
     "data": {
      "text/plain": [
       "('data/txtdata.csv', <http.client.HTTPMessage at 0x20548b12c88>)"
      ]
     },
     "execution_count": 2,
     "metadata": {},
     "output_type": "execute_result"
    }
   ],
   "source": [
    "from os import makedirs\n",
    "makedirs(\"data\", exist_ok=True)\n",
    "\n",
    "from urllib.request import urlretrieve\n",
    "urlretrieve(\"https://git.io/vXTVC\", \"data/txtdata.csv\")"
   ]
  },
  {
   "cell_type": "code",
   "execution_count": 3,
   "metadata": {},
   "outputs": [
    {
     "data": {
      "text/plain": [
       "<Container object of 74 artists>"
      ]
     },
     "execution_count": 3,
     "metadata": {},
     "output_type": "execute_result"
    },
    {
     "data": {
      "image/png": "[encoded data removed]",
      "text/plain": [
       "<matplotlib.figure.Figure at 0x20546177dd8>"
      ]
     },
     "metadata": {},
     "output_type": "display_data"
    }
   ],
   "source": [
    "figsize(12.5, 3.5)\n",
    "\n",
    "count_data = np.loadtxt(\"data/txtdata.csv\")\n",
    "n_count_data = len(count_data)\n",
    "plt.bar(np.arange(n_count_data), count_data, color=\"#348ABD\")\n"
   ]
  },
  {
   "cell_type": "markdown",
   "metadata": {},
   "source": [
    "グラフを前半と後半に分ける。その場所をswitch pointと呼ぶ。\n",
    "$$ \\lambda = \t\\begin{eqnarray}\n",
    "\\left\\{\n",
    "\\begin{array}{l}\n",
    "\\lambda_1 (t < \\tau ) \\\\\n",
    "\\lambda_2 (t \\geq \\tau )\n",
    "\\end{array}\n",
    "\\right.\n",
    "\\end{eqnarray} $$\n",
    "\n",
    "$\\lambda_1$、1$\\lambda_2$を決める。\n",
    "$$ \\lambda_1 \\sim Exp(\\alpha) $$\n",
    "$$ \\lambda_2 \\sim Exp(\\alpha) $$\n",
    "$\\alpha$はハイパーパラメータ。指数分布で$\\lambda$をモデル化しているので、期待値は平均値の逆数になる。これを使って$\\alpha$を決める。$\\tau$は、分布が一様分布(uniform distribution)と信じる。\n",
    "$$\n",
    "\\tau \\sim DiscreteUniform(1,70) \\Rightarrow P(\\tau = k) = \\frac {1} {70}\n",
    "$$\n",
    "我々が理解する必要があるのは事後確率だ。"
   ]
  },
  {
   "cell_type": "code",
   "execution_count": 4,
   "metadata": {},
   "outputs": [],
   "source": [
    "import pymc as pm\n",
    "\n",
    "alpha = 1.0 / count_data.mean()\n",
    "lambda_1 = pm.Exponential(\"lambda_1\", alpha)\n",
    "lambda_2 = pm.Exponential(\"lambda_2\", alpha)\n",
    "\n",
    "tau = pm.DiscreteUniform(\"tau\", lower=0, upper=n_count_data)"
   ]
  },
  {
   "cell_type": "code",
   "execution_count": 5,
   "metadata": {},
   "outputs": [],
   "source": [
    "@pm.deterministic\n",
    "def lambda_(tau=tau, lamba_1=lambda_1, lambda_2=lambda_2):\n",
    "    out = np.zeros(n_count_data)\n",
    "    out[:tau] = lambda_1 \n",
    "    out[tau:] = lambda_2\n",
    "    return out\n",
    " "
   ]
  },
  {
   "cell_type": "code",
   "execution_count": 6,
   "metadata": {
    "collapsed": true
   },
   "outputs": [],
   "source": [
    "ovservation = pm.Poisson(\"obs\", lambda_, value=count_data, observed=True)\n",
    "model = pm.Model([ovservation, lambda_1, lambda_2, tau])"
   ]
  },
  {
   "cell_type": "code",
   "execution_count": 7,
   "metadata": {},
   "outputs": [
    {
     "name": "stdout",
     "output_type": "stream",
     "text": [
      " [-----------------100%-----------------] 40000 of 40000 complete in 7.4 sec"
     ]
    }
   ],
   "source": [
    "mcmc= pm.MCMC(model)\n",
    "mcmc.sample(40000, 10000)"
   ]
  },
  {
   "cell_type": "code",
   "execution_count": 8,
   "metadata": {},
   "outputs": [
    {
     "data": {
      "text/plain": [
       "(35, 54)"
      ]
     },
     "execution_count": 8,
     "metadata": {},
     "output_type": "execute_result"
    },
    {
     "data": {
      "image/png": "[encoded data removed]",
      "text/plain": [
       "<matplotlib.figure.Figure at 0x2054b58b978>"
      ]
     },
     "metadata": {},
     "output_type": "display_data"
    }
   ],
   "source": [
    "lamba_1_samples = mcmc.trace('lambda_1')[:]\n",
    "lamba_2_samples = mcmc.trace('lambda_2')[:]\n",
    "tau_samples = mcmc.trace('tau')[:]\n",
    "\n",
    "figsize(14.5, 10)\n",
    "\n",
    "ax = plt.subplot(311)\n",
    "ax.set_autoscaley_on(False)\n",
    "plt.hist(lamba_1_samples, histtype='stepfilled', bins = 30, alpha=0.85, color = '#A60628', normed=True, label=\"$lambda_1$\")\n",
    "plt.legend()\n",
    "plt.xlim([15, 30])\n",
    "\n",
    "ax = plt.subplot(312)\n",
    "ax.set_autoscaley_on(False)\n",
    "plt.hist(lamba_2_samples, histtype='stepfilled', bins = 30, alpha=0.85, color = '#7A68A6', normed=True, label=\"$lambda_2$\")\n",
    "plt.legend()\n",
    "plt.xlim([15, 30])\n",
    "\n",
    "ax = plt.subplot(313)\n",
    "ax.set_autoscaley_on(False)\n",
    "w = 1.0/tau_samples.shape[0] * np.ones_like(tau_samples)\n",
    "plt.hist(tau_samples, histtype='stepfilled', bins = n_count_data, alpha=0.85, color = '#467828', label=\"$tau$\", \n",
    "        weights = w, rwidth=2)\n",
    "plt.legend()\n",
    "plt.ylim([0, 0.76])\n",
    "plt.xlim([35, len(count_data) - 20])\n",
    "\n",
    "\n"
   ]
  },
  {
   "cell_type": "code",
   "execution_count": null,
   "metadata": {
    "collapsed": true
   },
   "outputs": [],
   "source": []
  }
 ],
 "metadata": {
  "kernelspec": {
   "display_name": "Python 3",
   "language": "python",
   "name": "python3"
  },
  "language_info": {
   "codemirror_mode": {
    "name": "ipython",
    "version": 3
   },
   "file_extension": ".py",
   "mimetype": "text/x-python",
   "name": "python",
   "nbconvert_exporter": "python",
   "pygments_lexer": "ipython3",
   "version": "3.6.1"
  }
 },
 "nbformat": 4,
 "nbformat_minor": 2
}
