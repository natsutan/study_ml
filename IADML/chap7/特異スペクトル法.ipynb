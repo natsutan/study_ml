{
 "cells": [
  {
   "cell_type": "code",
   "execution_count": 12,
   "metadata": {},
   "outputs": [],
   "source": [
    "# ほぼ、ここと同じ\n",
    "# http://gratk.hatenablog.jp/entry/2017/12/14/001357\n",
    "\n",
    "import numpy as np\n",
    "import pandas as pd\n",
    "%matplotlib inline\n",
    "import matplotlib.pyplot as plt\n",
    "# データの読み込み\n",
    "txt_file = '~/myproj/study_ml/IADML/data/qtdbsel102.txt'\n",
    "\n",
    "df = pd.read_csv(txt_file, sep=\"\\t\", header=None)\n",
    "\n",
    "xi = df.loc[3000:5999, 2].values\n",
    "\n",
    "# 部分時系列の作成\n",
    "def embed(x, w):\n",
    "    t = x.shape[0]\n",
    "    n = t-w+1\n",
    "    pts = np.zeros((n,w))\n",
    "    for i in range(n):\n",
    "        window = x[i:i+w]\n",
    "        pts[i,:] = window.T\n",
    "    \n",
    "    return pts"
   ]
  },
  {
   "cell_type": "code",
   "execution_count": 13,
   "metadata": {},
   "outputs": [],
   "source": [
    "w = 50\n",
    "m = 2\n",
    "k = int(w / 2)\n",
    "L = int(k / 2)\n",
    "Tt = len(xi)\n",
    "score = np.zeros((Tt,))"
   ]
  },
  {
   "cell_type": "code",
   "execution_count": 19,
   "metadata": {},
   "outputs": [],
   "source": [
    "for t in range(w+k,Tt-L+1):\n",
    "    tstart = t - w - k + 1\n",
    "    tend = t - 1\n",
    "    X1 = embed(xi[tstart:tend],w).T\n",
    "    X1 = np.fliplr(X1)\n",
    "    \n",
    "    tstart = t - w - k + 1 + L\n",
    "    tend = t - 1 + L\n",
    "    X2 = embed(xi[tstart:tend],w).T\n",
    "    X2 = np.fliplr(X2)\n",
    "    \n",
    "    U1, s1, V1 = np.linalg.svd(X1, full_matrices=False)\n",
    "    U1 = U1[:, 0:m]\n",
    "    U2, s2, V2 = np.linalg.svd(X2, full_matrices=False)\n",
    "    U2 = U2[:, 0:m]\n",
    "    \n",
    "    # 部分空間同士の重なり合いと異常度\n",
    "    U3, s3, V3 = np.linalg.svd(np.dot(U1.T , U2))\n",
    "    sig1 = s3[0]\n",
    "    score[t] = 1 - sig1 * sig1\n",
    "    "
   ]
  },
  {
   "cell_type": "code",
   "execution_count": 21,
   "metadata": {},
   "outputs": [
    {
     "data": {
      "text/plain": [
       "[<matplotlib.lines.Line2D at 0x187022587f0>]"
      ]
     },
     "execution_count": 21,
     "metadata": {},
     "output_type": "execute_result"
    },
    {
     "data": {
      "image/png": "[encoded data removed]",
      "text/plain": [
       "<matplotlib.figure.Figure at 0x18701e7b128>"
      ]
     },
     "metadata": {},
     "output_type": "display_data"
    }
   ],
   "source": [
    "plt.plot(score)"
   ]
  },
  {
   "cell_type": "code",
   "execution_count": null,
   "metadata": {},
   "outputs": [],
   "source": []
  }
 ],
 "metadata": {
  "kernelspec": {
   "display_name": "Python 3",
   "language": "python",
   "name": "python3"
  },
  "language_info": {
   "codemirror_mode": {
    "name": "ipython",
    "version": 3
   },
   "file_extension": ".py",
   "mimetype": "text/x-python",
   "name": "python",
   "nbconvert_exporter": "python",
   "pygments_lexer": "ipython3",
   "version": "3.6.1"
  }
 },
 "nbformat": 4,
 "nbformat_minor": 2
}
